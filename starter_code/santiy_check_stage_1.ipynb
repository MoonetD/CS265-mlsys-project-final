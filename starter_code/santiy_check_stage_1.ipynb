{
 "cells": [
  {
   "cell_type": "code",
   "execution_count": 2,
   "metadata": {},
   "outputs": [
    {
     "name": "stdout",
     "output_type": "stream",
     "text": [
      "rows: 775\n",
      "unique names: 775\n"
     ]
    }
   ],
   "source": [
    "# Current issue is that we are getitng more actiavtion than the ResNet - 152... How?\n",
    "import pandas as pd\n",
    "df = pd.read_csv(\"../reports/profiler_stats_bs4_activation_stats.csv\")\n",
    "print(\"rows:\", len(df))\n",
    "print(\"unique names:\", df['activation_name'].nunique())\n"
   ]
  },
  {
   "cell_type": "code",
   "execution_count": 4,
   "metadata": {},
   "outputs": [
    {
     "ename": "ImportError",
     "evalue": "cannot import name 'Profiler' from 'graph_prof' (c:\\Users\\ydeng\\Documents\\GitHub\\CS265-mlsys-project-final\\starter_code\\graph_prof.py)",
     "output_type": "error",
     "traceback": [
      "\u001b[1;31m---------------------------------------------------------------------------\u001b[0m",
      "\u001b[1;31mImportError\u001b[0m                               Traceback (most recent call last)",
      "Cell \u001b[1;32mIn[4], line 1\u001b[0m\n\u001b[1;32m----> 1\u001b[0m \u001b[38;5;28;01mfrom\u001b[39;00m\u001b[38;5;250m \u001b[39m\u001b[38;5;21;01mgraph_prof\u001b[39;00m\u001b[38;5;250m \u001b[39m\u001b[38;5;28;01mimport\u001b[39;00m NodeType, Profiler\n\u001b[0;32m      3\u001b[0m \u001b[38;5;66;03m# Initialize the profiler\u001b[39;00m\n\u001b[0;32m      4\u001b[0m profiler \u001b[38;5;241m=\u001b[39m Profiler()\n",
      "\u001b[1;31mImportError\u001b[0m: cannot import name 'Profiler' from 'graph_prof' (c:\\Users\\ydeng\\Documents\\GitHub\\CS265-mlsys-project-final\\starter_code\\graph_prof.py)"
     ]
    }
   ],
   "source": [
    "from graph_prof import NodeType, Profiler\n",
    "\n",
    "# Initialize the profiler\n",
    "profiler = Profiler()\n",
    "\n",
    "both = [n for n, t in profiler.node_types.items()\n",
    "        if t == NodeType.ACT and n in profiler.grad_node_names]\n",
    "print(\"nodes tagged both ACT & GRAD:\", len(both))\n"
   ]
  },
  {
   "cell_type": "code",
   "execution_count": null,
   "metadata": {},
   "outputs": [],
   "source": []
  }
 ],
 "metadata": {
  "kernelspec": {
   "display_name": "ml_env",
   "language": "python",
   "name": "python3"
  },
  "language_info": {
   "codemirror_mode": {
    "name": "ipython",
    "version": 3
   },
   "file_extension": ".py",
   "mimetype": "text/x-python",
   "name": "python",
   "nbconvert_exporter": "python",
   "pygments_lexer": "ipython3",
   "version": "3.10.16"
  }
 },
 "nbformat": 4,
 "nbformat_minor": 2
}
